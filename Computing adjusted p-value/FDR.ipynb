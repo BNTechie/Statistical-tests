{
 "cells": [
  {
   "cell_type": "code",
   "execution_count": 1,
   "id": "c39367ea-c5af-461b-ab4d-715afaa6b100",
   "metadata": {},
   "outputs": [
    {
     "name": "stdout",
     "output_type": "stream",
     "text": [
      "P-values: [0.001 0.02  0.03  0.1   0.2   0.5  ]\n",
      "Q-values (FDR-adjusted): [0.006 0.06  0.06  0.15  0.24  0.5  ]\n",
      "Significant (Reject Null): [ True False False False False False]\n"
     ]
    }
   ],
   "source": [
    "import numpy as np\n",
    "from statsmodels.stats.multitest import multipletests\n",
    "\n",
    "# Example p-values from multiple hypothesis tests\n",
    "p_values = np.array([0.001, 0.02, 0.03, 0.1, 0.2, 0.5])\n",
    "\n",
    "# Perform FDR correction using Benjamini-Hochberg procedure\n",
    "rejected, q_values, _, _ = multipletests(p_values, alpha=0.05, method='fdr_bh')\n",
    "\n",
    "# Print results\n",
    "print(\"P-values:\", p_values)\n",
    "print(\"Q-values (FDR-adjusted):\", q_values)\n",
    "print(\"Significant (Reject Null):\", rejected)\n"
   ]
  },
  {
   "cell_type": "code",
   "execution_count": null,
   "id": "87575383-5fab-46ef-911e-de50d346917f",
   "metadata": {},
   "outputs": [],
   "source": []
  }
 ],
 "metadata": {
  "kernelspec": {
   "display_name": "Python 3 (ipykernel)",
   "language": "python",
   "name": "python3"
  },
  "language_info": {
   "codemirror_mode": {
    "name": "ipython",
    "version": 3
   },
   "file_extension": ".py",
   "mimetype": "text/x-python",
   "name": "python",
   "nbconvert_exporter": "python",
   "pygments_lexer": "ipython3",
   "version": "3.11.7"
  }
 },
 "nbformat": 4,
 "nbformat_minor": 5
}
