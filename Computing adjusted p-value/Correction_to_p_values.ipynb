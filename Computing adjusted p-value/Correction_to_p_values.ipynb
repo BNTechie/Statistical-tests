{
 "cells": [
  {
   "cell_type": "code",
   "execution_count": 2,
   "id": "d84a1e2b-e641-4cd5-8783-677329af6c18",
   "metadata": {},
   "outputs": [],
   "source": [
    "### --------------------------------------------------------------\n",
    "### Multiple comparisons example, p. 262–263\n",
    "### --------------------------------------------------------------\n",
    "\n",
    "Input = (\"\n",
    "Food               Raw.p\n",
    " Blue_fish         .34\n",
    " Bread             .594\n",
    " Butter            .212\n",
    " Carbohydrates     .384\n",
    " Cereals_and_pasta .074\n",
    " Dairy_products    .94\n",
    " Eggs              .275\n",
    " Fats              .696\n",
    " Fruit             .269\n",
    " Legumes           .341\n",
    " Nuts              .06\n",
    " Olive_oil         .008\n",
    " Potatoes          .569\n",
    " Processed_meat    .986\n",
    "Proteins           .042\n",
    "Red_meat           .251\n",
    "Semi-skimmed_milk  .942\n",
    "Skimmed_milk       .222\n",
    "Sweets             .762\n",
    "Total_calories     .001\n",
    "Total_meat         .975\n",
    "Vegetables         .216\n",
    "White_fish         .205\n",
    "White_meat         .041\n",
    "Whole_milk         .039\n",
    "\")\n",
    "\n"
   ]
  },
  {
   "cell_type": "code",
   "execution_count": 3,
   "id": "dede7a2d-77ef-4277-83ea-6f594b41cfcd",
   "metadata": {},
   "outputs": [],
   "source": [
    "Data = read.table(textConnection(Input),header=TRUE)\n",
    "### Order data by p-value\n",
    "\n",
    "Data = Data[order(Data$Raw.p),]"
   ]
  },
  {
   "cell_type": "code",
   "execution_count": 4,
   "id": "af984a08-004b-489d-ab63-6df4b6062a2c",
   "metadata": {},
   "outputs": [
    {
     "data": {
      "text/html": [
       "<table class=\"dataframe\">\n",
       "<caption>A data.frame: 6 × 2</caption>\n",
       "<thead>\n",
       "\t<tr><th></th><th scope=col>Food</th><th scope=col>Raw.p</th></tr>\n",
       "\t<tr><th></th><th scope=col>&lt;chr&gt;</th><th scope=col>&lt;dbl&gt;</th></tr>\n",
       "</thead>\n",
       "<tbody>\n",
       "\t<tr><th scope=row>20</th><td>Total_calories   </td><td>0.001</td></tr>\n",
       "\t<tr><th scope=row>12</th><td>Olive_oil        </td><td>0.008</td></tr>\n",
       "\t<tr><th scope=row>25</th><td>Whole_milk       </td><td>0.039</td></tr>\n",
       "\t<tr><th scope=row>17</th><td>Semi-skimmed_milk</td><td>0.942</td></tr>\n",
       "\t<tr><th scope=row>21</th><td>Total_meat       </td><td>0.975</td></tr>\n",
       "\t<tr><th scope=row>14</th><td>Processed_meat   </td><td>0.986</td></tr>\n",
       "</tbody>\n",
       "</table>\n"
      ],
      "text/latex": [
       "A data.frame: 6 × 2\n",
       "\\begin{tabular}{r|ll}\n",
       "  & Food & Raw.p\\\\\n",
       "  & <chr> & <dbl>\\\\\n",
       "\\hline\n",
       "\t20 & Total\\_calories    & 0.001\\\\\n",
       "\t12 & Olive\\_oil         & 0.008\\\\\n",
       "\t25 & Whole\\_milk        & 0.039\\\\\n",
       "\t17 & Semi-skimmed\\_milk & 0.942\\\\\n",
       "\t21 & Total\\_meat        & 0.975\\\\\n",
       "\t14 & Processed\\_meat    & 0.986\\\\\n",
       "\\end{tabular}\n"
      ],
      "text/markdown": [
       "\n",
       "A data.frame: 6 × 2\n",
       "\n",
       "| <!--/--> | Food &lt;chr&gt; | Raw.p &lt;dbl&gt; |\n",
       "|---|---|---|\n",
       "| 20 | Total_calories    | 0.001 |\n",
       "| 12 | Olive_oil         | 0.008 |\n",
       "| 25 | Whole_milk        | 0.039 |\n",
       "| 17 | Semi-skimmed_milk | 0.942 |\n",
       "| 21 | Total_meat        | 0.975 |\n",
       "| 14 | Processed_meat    | 0.986 |\n",
       "\n"
      ],
      "text/plain": [
       "   Food              Raw.p\n",
       "20 Total_calories    0.001\n",
       "12 Olive_oil         0.008\n",
       "25 Whole_milk        0.039\n",
       "17 Semi-skimmed_milk 0.942\n",
       "21 Total_meat        0.975\n",
       "14 Processed_meat    0.986"
      ]
     },
     "metadata": {},
     "output_type": "display_data"
    }
   ],
   "source": [
    "### Check if data is ordered the way we intended\n",
    "\n",
    "library(FSA)\n",
    "\n",
    "headtail(Data)"
   ]
  },
  {
   "cell_type": "code",
   "execution_count": 5,
   "id": "da3f197d-45ff-4f85-9122-2643e0778060",
   "metadata": {},
   "outputs": [],
   "source": [
    "### Perform p-value adjustments and add to data frame\n",
    "\n",
    "Data$Bonferroni = \n",
    "  p.adjust(Data$Raw.p, \n",
    "           method = \"bonferroni\")\n",
    "\n",
    "Data$BH = \n",
    "  p.adjust(Data$Raw.p, \n",
    "           method = \"BH\")\n"
   ]
  },
  {
   "cell_type": "code",
   "execution_count": 6,
   "id": "261da0ea-4097-42ca-ab36-4da8479c9fe2",
   "metadata": {},
   "outputs": [],
   "source": [
    "Data$Holm = \n",
    "  p.adjust(Data$ Raw.p, \n",
    "           method = \"holm\")\n"
   ]
  },
  {
   "cell_type": "code",
   "execution_count": 8,
   "id": "3643b63d-fb50-4276-8ea2-1f8925703719",
   "metadata": {},
   "outputs": [],
   "source": [
    "Data$Hochberg = \n",
    "  p.adjust(Data$ Raw.p, \n",
    "           method = \"hochberg\")"
   ]
  },
  {
   "cell_type": "code",
   "execution_count": 9,
   "id": "ea2fd585-57f0-46fd-981a-7172612eca88",
   "metadata": {},
   "outputs": [],
   "source": [
    "Data$Hommel = \n",
    "  p.adjust(Data$ Raw.p, \n",
    "           method = \"hommel\")"
   ]
  },
  {
   "cell_type": "code",
   "execution_count": 10,
   "id": "00bbcc96-bd8a-41da-9bd2-65a20d7d8e36",
   "metadata": {},
   "outputs": [],
   "source": [
    "Data$BY = \n",
    "  p.adjust(Data$ Raw.p, \n",
    "           method = \"BY\")"
   ]
  },
  {
   "cell_type": "code",
   "execution_count": null,
   "id": "97b249f4-bcf6-4173-88dd-557b012a5e99",
   "metadata": {},
   "outputs": [],
   "source": [
    "###plotting \n",
    "X = Data$Raw.p\n",
    "Y = cbind(Data$Bonferroni,\n",
    "          Data$BH,\n",
    "          Data$Holm,\n",
    "          Data$Hochberg,\n",
    "          Data$Hommel,\n",
    "          Data$BY)\n",
    "\n",
    "matplot(X, Y,\n",
    "        xlab=\"Raw p-value\",\n",
    "        ylab=\"Adjusted p-value\",\n",
    "        type=\"l\",\n",
    "        asp=1,\n",
    "        col=1:6,\n",
    "        lty=1,\n",
    "        lwd=2)\n",
    "\n",
    "legend('bottomright', \n",
    "       legend = c(\"Bonferroni\", \"BH\", \"Holm\", \"Hochberg\", \"Hommel\", \"BY\"), \n",
    "       col = 1:6, \n",
    "       cex = 1,    \n",
    "       pch = 16)\n",
    "\n",
    "abline(0, 1,\n",
    "       col=1,\n",
    "       lty=2,\n",
    "       lwd=1)\n",
    "\n"
   ]
  }
 ],
 "metadata": {
  "kernelspec": {
   "display_name": "R",
   "language": "R",
   "name": "ir"
  },
  "language_info": {
   "codemirror_mode": "r",
   "file_extension": ".r",
   "mimetype": "text/x-r-source",
   "name": "R",
   "pygments_lexer": "r",
   "version": "4.3.2"
  }
 },
 "nbformat": 4,
 "nbformat_minor": 5
}
