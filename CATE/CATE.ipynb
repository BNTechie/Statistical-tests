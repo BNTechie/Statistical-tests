{
 "cells": [
  {
   "cell_type": "markdown",
   "id": "25b9be97-7420-41bb-bc54-b5fb35dcaacf",
   "metadata": {},
   "source": [
    "\n",
    "Provides several methods for factor analysis in high dimension (both n,p >> 1) and methods to adjust for possible confounders in multiple hypothesis testing."
   ]
  },
  {
   "cell_type": "markdown",
   "id": "55cf3f23",
   "metadata": {},
   "source": [
    "# High Dimensional Factor Analysis and Confounder Adjusted Testing and Estimation"
   ]
  },
  {
   "cell_type": "code",
   "execution_count": null,
   "id": "af7ab655",
   "metadata": {},
   "outputs": [
    {
     "data": {
      "text/html": [
       "<style>\n",
       ".list-inline {list-style: none; margin:0; padding: 0}\n",
       ".list-inline>li {display: inline-block}\n",
       ".list-inline>li:not(:last-child)::after {content: \"\\00b7\"; padding: 0 .5ex}\n",
       "</style>\n",
       "<ol class=list-inline><li>'Y'</li><li>'X'</li><li>'Z'</li><li>'spikectl'</li><li>'geneinfo'</li><li>'xchrom'</li><li>'ychrom'</li><li>'xychrom'</li><li>'pctl'</li><li>'autosomal'</li><li>'genecoloring'</li><li>'samplecoloring'</li></ol>\n"
      ],
      "text/latex": [
       "\\begin{enumerate*}\n",
       "\\item 'Y'\n",
       "\\item 'X'\n",
       "\\item 'Z'\n",
       "\\item 'spikectl'\n",
       "\\item 'geneinfo'\n",
       "\\item 'xchrom'\n",
       "\\item 'ychrom'\n",
       "\\item 'xychrom'\n",
       "\\item 'pctl'\n",
       "\\item 'autosomal'\n",
       "\\item 'genecoloring'\n",
       "\\item 'samplecoloring'\n",
       "\\end{enumerate*}\n"
      ],
      "text/markdown": [
       "1. 'Y'\n",
       "2. 'X'\n",
       "3. 'Z'\n",
       "4. 'spikectl'\n",
       "5. 'geneinfo'\n",
       "6. 'xchrom'\n",
       "7. 'ychrom'\n",
       "8. 'xychrom'\n",
       "9. 'pctl'\n",
       "10. 'autosomal'\n",
       "11. 'genecoloring'\n",
       "12. 'samplecoloring'\n",
       "\n",
       "\n"
      ],
      "text/plain": [
       " [1] \"Y\"              \"X\"              \"Z\"              \"spikectl\"      \n",
       " [5] \"geneinfo\"       \"xchrom\"         \"ychrom\"         \"xychrom\"       \n",
       " [9] \"pctl\"           \"autosomal\"      \"genecoloring\"   \"samplecoloring\""
      ]
     },
     "metadata": {},
     "output_type": "display_data"
    },
    {
     "data": {
      "text/html": [
       "<table class=\"dataframe\">\n",
       "<caption>A matrix: 2 × 3 of type int</caption>\n",
       "<thead>\n",
       "\t<tr><th scope=col>X</th><th scope=col>Y</th><th scope=col>Z</th></tr>\n",
       "</thead>\n",
       "<tbody>\n",
       "\t<tr><td>84</td><td> 84</td><td>84</td></tr>\n",
       "\t<tr><td> 1</td><td>500</td><td> 4</td></tr>\n",
       "</tbody>\n",
       "</table>\n"
      ],
      "text/latex": [
       "A matrix: 2 × 3 of type int\n",
       "\\begin{tabular}{lll}\n",
       " X & Y & Z\\\\\n",
       "\\hline\n",
       "\t 84 &  84 & 84\\\\\n",
       "\t  1 & 500 &  4\\\\\n",
       "\\end{tabular}\n"
      ],
      "text/markdown": [
       "\n",
       "A matrix: 2 × 3 of type int\n",
       "\n",
       "| X | Y | Z |\n",
       "|---|---|---|\n",
       "| 84 |  84 | 84 |\n",
       "|  1 | 500 |  4 |\n",
       "\n"
      ],
      "text/plain": [
       "     X  Y   Z \n",
       "[1,] 84  84 84\n",
       "[2,]  1 500  4"
      ]
     },
     "metadata": {},
     "output_type": "display_data"
    }
   ],
   "source": [
    "##adjust for confounding effects in multiple hypothesis testing.\n",
    "##https://rdrr.io/cran/cate/#vignettes\n",
    "#install.packages(\"cate\")\n",
    "library(cate)\n",
    "data(gender.sm)\n",
    "names(gender.sm)\n",
    "\n",
    "cbind(X = dim(gender.sm$X), Y = dim(gender.sm$Y), Z = dim(gender.sm$Z)) # matrix dimensions\n",
    "##In the data object gender.sm, X is the gender of each person, Y is the gene expression matrix, and Z includes the batch\n",
    "#labels (lab and microarray platform, not individual or brain region).\n",
    "\n",
    "t.stats <- apply(gender.sm$Y, 2, function(y, x) t.test(y~x)$statistic, gender.sm$X)\n",
    "n <- nrow(gender.sm$Y) # number of samples\n",
    "gender.data <- data.frame(gender = gender.sm$X, gender.sm$Z)\n",
    "factor.num <- est.confounder.num(~ gender | . - gender + 0,\n",
    "                                 gender.data, gender.sm$Y,\n",
    "                                 method = \"bcv\", bcv.plot = FALSE,\n",
    "                                 rmax = 30, nRepeat = 20)\n",
    "est.confounder.num(~ gender | . - gender + 0,\n",
    "                   gender.data, gender.sm$Y, method = \"ed\")\n",
    "cate.results <- cate(~ gender | . - gender + 0,\n",
    "                     gender.data, gender.sm$Y, r = factor.num$r)\n",
    "names(cate.results)\n",
    "\n",
    "cate.results$alpha.p.value\n",
    "\n",
    "\n",
    "which(p.adjust(cate.results$beta.p.value, \"bonferroni\") < 0.05) # control FWER at 0.05\n",
    "which(p.adjust(cate.results$beta.p.value, \"BH\") < 0.2) # control FDR at 0.2\n",
    "\n",
    "args(cate)\n",
    "\n",
    "cate.results.nc <- cate(~ gender | . - gender + 0,\n",
    "                        gender.data, gender.sm$Y, r = factor.num$r,\n",
    "                        adj.method = \"nc\", nc = gender.sm$spikectl)\n",
    "\n",
    "\n"
   ]
  },
  {
   "cell_type": "code",
   "execution_count": null,
   "id": "88aea5c6-0718-4d77-b608-6c948135e200",
   "metadata": {},
   "outputs": [],
   "source": []
  }
 ],
 "metadata": {
  "kernelspec": {
   "display_name": "R",
   "language": "R",
   "name": "ir"
  },
  "language_info": {
   "codemirror_mode": "r",
   "file_extension": ".r",
   "mimetype": "text/x-r-source",
   "name": "R",
   "pygments_lexer": "r",
   "version": "4.3.2"
  }
 },
 "nbformat": 4,
 "nbformat_minor": 5
}
