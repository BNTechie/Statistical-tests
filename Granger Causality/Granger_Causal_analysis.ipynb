{
 "cells": [
  {
   "cell_type": "code",
   "execution_count": 1,
   "id": "70acde0e-d31e-403e-b6ce-ed0ff5d62412",
   "metadata": {},
   "outputs": [
    {
     "name": "stderr",
     "output_type": "stream",
     "text": [
      "Loading required package: zoo\n",
      "\n",
      "\n",
      "Attaching package: ‘zoo’\n",
      "\n",
      "\n",
      "The following objects are masked from ‘package:base’:\n",
      "\n",
      "    as.Date, as.Date.numeric\n",
      "\n",
      "\n",
      "Warning message:\n",
      "“package ‘tseries’ was built under R version 4.3.3”\n",
      "Registered S3 method overwritten by 'quantmod':\n",
      "  method            from\n",
      "  as.zoo.data.frame zoo \n",
      "\n"
     ]
    }
   ],
   "source": [
    "#install.packages(\"lmtest\")\n",
    "#install.packages(\"tseries\")\n",
    "library(lmtest)\n",
    "library(tseries)"
   ]
  },
  {
   "cell_type": "code",
   "execution_count": 2,
   "id": "7ff7c206-ef93-4d01-81c6-4d825a09e497",
   "metadata": {},
   "outputs": [
    {
     "data": {
      "text/plain": [
       "\n",
       "\tAugmented Dickey-Fuller Test\n",
       "\n",
       "data:  X.ts\n",
       "Dickey-Fuller = -2.1019, Lag order = 4, p-value = 0.5344\n",
       "alternative hypothesis: stationary\n"
      ]
     },
     "metadata": {},
     "output_type": "display_data"
    },
    {
     "data": {
      "text/plain": [
       "\n",
       "\tAugmented Dickey-Fuller Test\n",
       "\n",
       "data:  Y.ts\n",
       "Dickey-Fuller = -2.0951, Lag order = 4, p-value = 0.5373\n",
       "alternative hypothesis: stationary\n"
      ]
     },
     "metadata": {},
     "output_type": "display_data"
    }
   ],
   "source": [
    "# Simulate some time series data\n",
    "set.seed(42)\n",
    "n <- 100\n",
    "X <- cumsum(rnorm(n))  # Cumulative sum to induce a trend\n",
    "Y <- lag(X, -1) + rnorm(n) * 0.5  # Y is dependent on X with noise\n",
    "\n",
    "# Convert to ts objects\n",
    "X.ts <- ts(X)\n",
    "Y.ts <- ts(Y)\n",
    "library(tseries)\n",
    "\n",
    "# Perform ADF test to check for stationarity\n",
    "adf.test(X.ts, alternative = \"stationary\")\n",
    "adf.test(Y.ts, alternative = \"stationary\")\n"
   ]
  },
  {
   "cell_type": "code",
   "execution_count": 4,
   "id": "56b86bb4-406b-42db-96b5-c28e5e8c0650",
   "metadata": {},
   "outputs": [
    {
     "name": "stdout",
     "output_type": "stream",
     "text": [
      "Granger causality test\n",
      "\n",
      "Model 1: X.ts ~ Lags(X.ts, 1:2) + Lags(Y.ts, 1:2)\n",
      "Model 2: X.ts ~ Lags(X.ts, 1:2)\n",
      "  Res.Df Df      F Pr(>F)\n",
      "1     93                 \n",
      "2     95 -2 1.6522 0.1972\n"
     ]
    }
   ],
   "source": [
    "library(lmtest)\n",
    "\n",
    "# Granger causality test\n",
    "granger.test.X_causes_Y <- grangertest(Y.ts, X.ts, order = 2)\n",
    "granger.test.Y_causes_X <- grangertest(X.ts, Y.ts, order = 2)\n",
    "\n",
    "print(granger.test.X_causes_Y)\n"
   ]
  },
  {
   "cell_type": "code",
   "execution_count": 5,
   "id": "14d3e808-aea6-4917-a8a5-efff3203ce86",
   "metadata": {},
   "outputs": [
    {
     "name": "stdout",
     "output_type": "stream",
     "text": [
      "Granger causality test\n",
      "\n",
      "Model 1: Y.ts ~ Lags(Y.ts, 1:2) + Lags(X.ts, 1:2)\n",
      "Model 2: Y.ts ~ Lags(Y.ts, 1:2)\n",
      "  Res.Df Df      F    Pr(>F)    \n",
      "1     93                        \n",
      "2     95 -2 13.475 7.262e-06 ***\n",
      "---\n",
      "Signif. codes:  0 ‘***’ 0.001 ‘**’ 0.01 ‘*’ 0.05 ‘.’ 0.1 ‘ ’ 1\n"
     ]
    }
   ],
   "source": [
    "print(granger.test.Y_causes_X)\n"
   ]
  },
  {
   "cell_type": "code",
   "execution_count": null,
   "id": "e54741bf-799d-46c7-becd-be6a66368de9",
   "metadata": {},
   "outputs": [],
   "source": []
  }
 ],
 "metadata": {
  "kernelspec": {
   "display_name": "R",
   "language": "R",
   "name": "ir"
  },
  "language_info": {
   "codemirror_mode": "r",
   "file_extension": ".r",
   "mimetype": "text/x-r-source",
   "name": "R",
   "pygments_lexer": "r",
   "version": "4.3.2"
  }
 },
 "nbformat": 4,
 "nbformat_minor": 5
}
